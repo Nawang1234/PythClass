{
 "cells": [
  {
   "cell_type": "code",
   "execution_count": 2,
   "id": "18813a77-54a7-4e1e-b3cb-515dc679050d",
   "metadata": {},
   "outputs": [
    {
     "name": "stdout",
     "output_type": "stream",
     "text": [
      "HTML FILE CREATED\n"
     ]
    }
   ],
   "source": [
    "import requests\n",
    "from bs4 import BeautifulSoup\n",
    "url = \"https://www.flipkart.com/audio-video/headset/pr?sid=0pm%2Cfcn&p%5B%5D=facets.connectivity%255B%255D%3DBluetooth&sort=popularity&p%5B%5D=facets.rating%255B%255D%3D3%25E2%2598%2585%2B%2526%2Babove&p%5B%5D=facets.rating%255B%255D%3D4%25E2%2598%2585%2B%2526%2Babove&p%5B%5D=facets.price_range.from%3D599&p%5B%5D=facets.price_range.to%3DMax&p%5B%5D=facets.headphone_type%255B%255D%3DTrue%2BWireless&param=86&hpid=WqCPtE2MbDEYEbYbttXC1qp7_Hsxr70nj65vMAAFKlc%3D&ctx=eyJjYXJkQ29udGV4dCI6eyJhdHRyaWJ1dGVzIjp7InZhbHVlQ2FsbG91dCI6eyJtdWx0aVZhbHVlZEF0dHJpYnV0ZSI6eyJrZXkiOiJ2YWx1ZUNhbGxvdXQiLCJpbmZlcmVuY2VUeXBlIjoiVkFMVUVfQ0FMTE9VVCIsInZhbHVlcyI6WyJHcmFiIE5vdyJdLCJ2YWx1ZVR5cGUiOiJNVUxUSV9WQUxVRUQifX0sImhlcm9QaWQiOnsic2luZ2xlVmFsdWVBdHRyaWJ1dGUiOnsia2V5IjoiaGVyb1BpZCIsImluZmVyZW5jZVR5cGUiOiJQSUQiLCJ2YWx1ZSI6IkFDQ0c2RFM5WkgyRUNEQkciLCJ2YWx1ZVR5cGUiOiJTSU5HTEVfVkFMVUVEIn19LCJ0aXRsZSI6eyJtdWx0aVZhbHVlZEF0dHJpYnV0ZSI6eyJrZXkiOiJ0aXRsZSIsImluZmVyZW5jZVR5cGUiOiJUSVRMRSIsInZhbHVlcyI6WyJCZXN0IFRydWV3aXJlbGVzcyBIZWFkcGhvbmVzIl0sInZhbHVlVHlwZSI6Ik1VTFRJX1ZBTFVFRCJ9fX19fQ%3D%3D&page=2\"\n",
    "response = requests.get(url)\n",
    "\n",
    "\n",
    "html = response.text\n",
    "\n",
    "with open(\"index_filp.html\",'w') as f:\n",
    "    f.write(html)\n",
    "\n",
    "print(\"HTML FILE CREATED\")"
   ]
  },
  {
   "cell_type": "code",
   "execution_count": 6,
   "id": "dc19eedc-e09b-4f3e-b961-cd98573f64e7",
   "metadata": {},
   "outputs": [
    {
     "data": {
      "text/plain": [
       "<title>Headphones - Up to 80% Off on Headphones, Headset, Earphones Online | Free Delivery</title>"
      ]
     },
     "execution_count": 6,
     "metadata": {},
     "output_type": "execute_result"
    }
   ],
   "source": [
    "with open('filee.html','r') as f:\n",
    "    html = f.read()\n",
    "soup = BeautifulSoup(html, 'lxml')\n",
    "soup.title"
   ]
  },
  {
   "cell_type": "code",
   "execution_count": 8,
   "id": "c181ad9a-9dbb-4ecc-9542-a8564b143a4a",
   "metadata": {},
   "outputs": [
    {
     "data": {
      "text/plain": [
       "\" Headphones - Up to 80% Off on Headphones, Headset, Earphones Online | Free Delivery            Check out the Exclusive Launches of Samsung Galaxy Buds Pro active noise cancellation enable bluetooth headset with different colors will be available from 28th Jan 2021.Also check: Skullcandy Wireless, Skullcandy Smokin Buds 2, JBL Headset, Jabra Headphones, Samsung Level U, Sony Extra Base Headphones Read More ADBiggest Price DropShop now4.1★Boult Mustang Torq with 50 Hrs Battery, App Support, 4 Mic ENC, Breathable LEDs, 5.4v Bluetooth5,999 ₹1,79970% off4.1★Boult Z40 Pro with 100H Battery, Quad Mic ENC, Scratch Proof, Rubber Grip Design, 5.3v Bluetooth5,499 ₹1,49972% off4.1★Boult Klarity 3 ANC 50dB Hybrid ANC, 6 Mics, App Support, Dual Pairing, 50Hrs Battery Bluetooth5,999 ₹1,99866% off4.1★Boult Mustang with 100 Hrs Battery, App Support, Dual Pairing, 4 Mic ENC, 5.4v Bluetooth5,999 ₹1,69871% off4.1★Boult Astra with Quad Mic ENC, 48Hrs Battery, Low Latency Gaming, Made in India, 5.3v Bluetooth3,499 ₹1,49957% offADBiggest Price DropShop nowSponsoredboAtAirdopes Supreme w/ 4 Mics AI ENx Tech, 50 HRS Playback,Multi Point Connectivity Bluetooth Headset79% off5,990₹1,199Save extra with combo offersFree deliverySponsoredBoultAstra with Quad Mic ENC, 48Hrs Battery, Low Latency Gaming, Made in India, 5.3v Bluetooth Headset57% off3,499₹1,499Save extra with combo offersFree deliveryBESTSELLERboAtAirdopes 161/163 with ASAP Charge & 40 HRS Playback Bluetooth Headset63% off2,490₹899Save extra with combo offersFree deliveryboAtAirdopes 161, Adv 4Mic ENx, 50H Battery,Fast Charge,13mm Driver, Metallic Finish Bluetooth Headset66% off2,990₹998Free deliveryMore about Headset +ORAIMO Headset ,SHOPLINE Headset ,Leaf Ear Headset ,Pebble Headset ,Creative Headset ,Sony Headset ,Marshall Headset ,truke Headset ,Czech Headset ,HRX Headset ,Huawei Headset ,RoyalRich Headset ,Logitech Headset ,Blaupunkt Headset ,Fire-Boltt Headset ,WROGN Headset ,Ubon Headset ,Drumstone Headset ,Audio & Video ,Hetton Headset\\nBuy Headphones Online at Flipkart\\n\\xa0\\xa0\\n\\nHeadphones have become a must-have gadget in today's world owing to the need of listening to music. It is important to buy these headphones from a reliable online store as there are too many defective and duplicate products being sold. Known for customer friendly policies, Flipkart is one website that you can rely on to buy the best headphones.\\n\\nCheck out new launches: truke b097 bluetooth headset,\\xa0\\xa0truke deep bass,\\xa0truke B120, truke b120 price\\nAlso Check: Noise Tune Active Plus, Noise Tune Active Plus bluetooth, noise tune elite sport bluetooth, noise tune elite sport\\nMivi Brand: Mivi Bluetooth, Mivi Duopods, mivi duopods m40\\nIntex Brand: Intex BT MUSIQUE Pro, Intex BT MUSIQUE BASS, bt musique bass, Intex MUSIQUE POWER, Intex MUSIQUE Flexi, Intex ROAR 101\\nHeadsetLoginSort4Filter  \""
      ]
     },
     "execution_count": 8,
     "metadata": {},
     "output_type": "execute_result"
    }
   ],
   "source": [
    "soup.text\n"
   ]
  },
  {
   "cell_type": "code",
   "execution_count": null,
   "id": "fc2f15ff-faf3-472c-bca9-50f1596c79e0",
   "metadata": {},
   "outputs": [],
   "source": []
  }
 ],
 "metadata": {
  "kernelspec": {
   "display_name": "Python 3 (ipykernel)",
   "language": "python",
   "name": "python3"
  },
  "language_info": {
   "codemirror_mode": {
    "name": "ipython",
    "version": 3
   },
   "file_extension": ".py",
   "mimetype": "text/x-python",
   "name": "python",
   "nbconvert_exporter": "python",
   "pygments_lexer": "ipython3",
   "version": "3.12.4"
  }
 },
 "nbformat": 4,
 "nbformat_minor": 5
}
