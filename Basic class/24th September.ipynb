{
 "cells": [
  {
   "cell_type": "code",
   "execution_count": 6,
   "id": "fec60181-c936-43aa-9db7-a7861ee2da20",
   "metadata": {},
   "outputs": [
    {
     "name": "stdout",
     "output_type": "stream",
     "text": [
      " x =  9\n"
     ]
    }
   ],
   "source": [
    "\"\"\" Revision class \"\"\"\n",
    "x = 9\n",
    "print(\" x = \", x) "
   ]
  },
  {
   "cell_type": "code",
   "execution_count": null,
   "id": "7851484b-28c1-4abe-b896-f78580b9497d",
   "metadata": {},
   "outputs": [],
   "source": []
  }
 ],
 "metadata": {
  "kernelspec": {
   "display_name": "Python 3 (ipykernel)",
   "language": "python",
   "name": "python3"
  },
  "language_info": {
   "codemirror_mode": {
    "name": "ipython",
    "version": 3
   },
   "file_extension": ".py",
   "mimetype": "text/x-python",
   "name": "python",
   "nbconvert_exporter": "python",
   "pygments_lexer": "ipython3",
   "version": "3.12.4"
  }
 },
 "nbformat": 4,
 "nbformat_minor": 5
}
