{
 "cells": [
  {
   "cell_type": "code",
   "execution_count": 29,
   "id": "7f1b0c70-cdac-4067-be05-1eb5fbcf2494",
   "metadata": {},
   "outputs": [
    {
     "data": {
      "text/plain": [
       "29"
      ]
     },
     "execution_count": 29,
     "metadata": {},
     "output_type": "execute_result"
    }
   ],
   "source": [
    "def add (*nums):\n",
    "    sum = 0\n",
    "    for i in nums:\n",
    "        sum += i\n",
    "    return sum\n",
    "\n",
    "add (1,2,3,23)"
   ]
  },
  {
   "cell_type": "code",
   "execution_count": 27,
   "id": "d3e25b83-4dde-43fa-a0f4-c735a243c377",
   "metadata": {},
   "outputs": [
    {
     "data": {
      "text/plain": [
       "5"
      ]
     },
     "execution_count": 27,
     "metadata": {},
     "output_type": "execute_result"
    }
   ],
   "source": [
    "def add (x,y):\n",
    "    return x+y\n",
    "add (2,3)\n"
   ]
  },
  {
   "cell_type": "code",
   "execution_count": 33,
   "id": "a8c801e6-3684-43aa-b6e9-e561d007aa64",
   "metadata": {},
   "outputs": [
    {
     "data": {
      "text/plain": [
       "12"
      ]
     },
     "execution_count": 33,
     "metadata": {},
     "output_type": "execute_result"
    }
   ],
   "source": [
    "def mul (x , y=3):\n",
    "    return x * y\n",
    "mul (4)"
   ]
  },
  {
   "cell_type": "code",
   "execution_count": 35,
   "id": "51b23f26-7de2-4875-966b-77d8d488f030",
   "metadata": {},
   "outputs": [
    {
     "data": {
      "text/plain": [
       "20"
      ]
     },
     "execution_count": 35,
     "metadata": {},
     "output_type": "execute_result"
    }
   ],
   "source": [
    "def mul (x , y = 3):\n",
    "    return x * y\n",
    "mul (4,5) #prioritizes the vause provided by user and ignores the default value)"
   ]
  },
  {
   "cell_type": "code",
   "execution_count": 55,
   "id": "ee999d37-82cb-4b5e-8245-f9ef886b568f",
   "metadata": {},
   "outputs": [
    {
     "data": {
      "text/plain": [
       "1"
      ]
     },
     "execution_count": 55,
     "metadata": {},
     "output_type": "execute_result"
    }
   ],
   "source": [
    "def sub (x , y = 3):\n",
    "    return x - y\n",
    "sub (4) #prioritizes the vause provided by user and ignores the default value)"
   ]
  },
  {
   "cell_type": "code",
   "execution_count": 59,
   "id": "6a73af0a-e862-4efc-8b35-8202272f824a",
   "metadata": {},
   "outputs": [
    {
     "data": {
      "text/plain": [
       "6"
      ]
     },
     "execution_count": 59,
     "metadata": {},
     "output_type": "execute_result"
    }
   ],
   "source": [
    "#lambda function_without a name function. \n",
    "sum = lambda x,y,z: x + y + z\n",
    "sum (1,2,3)\n"
   ]
  },
  {
   "cell_type": "code",
   "execution_count": 85,
   "id": "1e1ea16a-9ecb-44b5-8aee-896eaa21af61",
   "metadata": {},
   "outputs": [
    {
     "name": "stdout",
     "output_type": "stream",
     "text": [
      "Enter 1 for addition, 2 for subtraction, 3 for multiplication, 4 for division\n"
     ]
    },
    {
     "name": "stdin",
     "output_type": "stream",
     "text": [
      "Enter your choice:  1\n",
      "Enter the value of x:  4\n",
      "Enter the value of y:  3\n",
      "Enter the value of z:  2\n"
     ]
    },
    {
     "name": "stdout",
     "output_type": "stream",
     "text": [
      "The sum of these numbers is: 9.0\n"
     ]
    }
   ],
   "source": [
    "def add(x, y, z):\n",
    "    return x + y + z\n",
    "\n",
    "def sub(x, y, z):\n",
    "    return x - y - z\n",
    "\n",
    "def mul(x, y, z):\n",
    "    return x * y * z\n",
    "\n",
    "def div(x, y):\n",
    "    return x / y\n",
    "\n",
    "# Display menu to the user\n",
    "print(\"Enter 1 for addition, 2 for subtraction, 3 for multiplication, 4 for division\")\n",
    "user = int(input(\"Enter your choice: \"))  # Getting input from the user\n",
    "\n",
    "# Checking the user input and performing the corresponding operation\n",
    "if user == 1:\n",
    "    x = float(input(\"Enter the value of x: \"))\n",
    "    y = float(input(\"Enter the value of y: \"))\n",
    "    z = float(input(\"Enter the value of z: \"))\n",
    "    print(f\"The sum of these numbers is: {add(x, y, z)}\")\n",
    "\n",
    "elif user == 2:\n",
    "    x = float(input(\"Enter the value of x: \"))\n",
    "    y = float(input(\"Enter the value of y: \"))\n",
    "    z = float(input(\"Enter the value of z: \"))\n",
    "    print(f\"The difference of these numbers is: {sub(x, y, z)}\")\n",
    "\n",
    "elif user == 3:\n",
    "    x = float(input(\"Enter the value of x: \"))\n",
    "    y = float(input(\"Enter the value of y: \"))\n",
    "    z = float(input(\"Enter the value of z: \"))\n",
    "    print(f\"The multiplication of these numbers is: {mul(x, y, z)}\")\n",
    "\n",
    "elif user == 4:\n",
    "    x = float(input(\"Enter the value of x: \"))\n",
    "    y = float(input(\"Enter the value of y: \"))\n",
    "    print(f\"The division of these numbers is: {div(x, y)}\")\n",
    "\n",
    "else:\n",
    "    print(\"Invalid choice! Please enter a valid option.\")"
   ]
  },
  {
   "cell_type": "code",
   "execution_count": 97,
   "id": "13a37b6f-8c54-4c11-b74d-63a56d502ac3",
   "metadata": {},
   "outputs": [
    {
     "name": "stdin",
     "output_type": "stream",
     "text": [
      "Enter the number of noodles sold 30\n",
      "Enter the number of biscuits sold 40\n"
     ]
    },
    {
     "name": "stdout",
     "output_type": "stream",
     "text": [
      "Total sales of biscuits and noodles is = 1000\n"
     ]
    }
   ],
   "source": [
    "#Total sales\n",
    "def total_sales (num_noodles,num_biscuits):\n",
    "    return (num_noodles * 20) + (num_biscuits * 10)\n",
    "\n",
    "num_noodles = int(input(\"Enter the number of noodles sold\"))\n",
    "num_biscuits = int(input(\"Enter the number of biscuits sold\"))\n",
    "\n",
    "print (\"Total sales of biscuits and noodles is =\",total_sales(num_noodles,num_biscuits))\n"
   ]
  },
  {
   "cell_type": "code",
   "execution_count": null,
   "id": "63c739e9-487a-489c-9776-3a9590fdb8be",
   "metadata": {},
   "outputs": [],
   "source": [
    "def total_sales (num_popcord, number+movie):"
   ]
  }
 ],
 "metadata": {
  "kernelspec": {
   "display_name": "Python 3 (ipykernel)",
   "language": "python",
   "name": "python3"
  },
  "language_info": {
   "codemirror_mode": {
    "name": "ipython",
    "version": 3
   },
   "file_extension": ".py",
   "mimetype": "text/x-python",
   "name": "python",
   "nbconvert_exporter": "python",
   "pygments_lexer": "ipython3",
   "version": "3.12.4"
  }
 },
 "nbformat": 4,
 "nbformat_minor": 5
}
