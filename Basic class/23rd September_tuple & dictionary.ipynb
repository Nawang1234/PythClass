{
 "cells": [
  {
   "cell_type": "code",
   "execution_count": 28,
   "id": "236b0a53-121c-466e-a8b4-0cd2335b32cf",
   "metadata": {},
   "outputs": [
    {
     "name": "stdout",
     "output_type": "stream",
     "text": [
      "my_tuple[0] =>  Hi\n",
      "my_tuple[-1] =>  2\n",
      "my_tuple[1:3] =>  (1, 8)\n",
      "my_tuple[-3:-1] =>  (1, 8)\n",
      "my_tuple[:2] =>  ('Hi', 1)\n",
      "my_tuple[2:] =>  (8, 2)\n"
     ]
    }
   ],
   "source": [
    "#Python tuple\n",
    "my_tuple = (\"Hi\", 1, 8, 2)\n",
    "print (\"my_tuple[0] => \", my_tuple[0])\n",
    "print (\"my_tuple[-1] => \", my_tuple[-1])\n",
    "print (\"my_tuple[1:3] => \", my_tuple[1:3])\n",
    "print (\"my_tuple[-3:-1] => \", my_tuple[-3:-1])\n",
    "print (\"my_tuple[:2] => \", my_tuple[:2])\n",
    "print (\"my_tuple[2:] => \", my_tuple[2:])\n",
    "\n"
   ]
  },
  {
   "cell_type": "code",
   "execution_count": 24,
   "id": "80b811ee-a0a5-4e32-888d-645cb1fcb818",
   "metadata": {},
   "outputs": [
    {
     "name": "stdout",
     "output_type": "stream",
     "text": [
      "1\n",
      "8\n",
      "2\n"
     ]
    }
   ],
   "source": [
    "my_tuple = ( 1, 8, 2)\n",
    "\n",
    "for item in my_tuple:\n",
    "    print (item)"
   ]
  },
  {
   "cell_type": "code",
   "execution_count": 22,
   "id": "965a4eb6-33a4-4f09-8771-40d08281c5af",
   "metadata": {},
   "outputs": [
    {
     "name": "stdout",
     "output_type": "stream",
     "text": [
      "(1, 2, 3, 1, 2, 3, 1, 2, 3)\n"
     ]
    }
   ],
   "source": [
    "tuple_1 = (1,2,3)*3 #values in tuple cannot be changed..it gets added\n",
    "print (tuple_1)"
   ]
  },
  {
   "cell_type": "code",
   "execution_count": 26,
   "id": "d389ad73-9f57-485c-8d33-6f667aea44ca",
   "metadata": {},
   "outputs": [
    {
     "data": {
      "text/plain": [
       "{2, 5.65, 'Hi', True}"
      ]
     },
     "execution_count": 26,
     "metadata": {},
     "output_type": "execute_result"
    }
   ],
   "source": [
    "#Python sets - unordered unindexed \n",
    "my_set = {2 , \"Hi\", 5.65, True}\n",
    "my_set"
   ]
  },
  {
   "cell_type": "code",
   "execution_count": 30,
   "id": "98ee2e5a-caf8-4a8d-88f7-715c344c36f0",
   "metadata": {},
   "outputs": [
    {
     "data": {
      "text/plain": [
       "{1, 5.65, 'Hi'}"
      ]
     },
     "execution_count": 30,
     "metadata": {},
     "output_type": "execute_result"
    }
   ],
   "source": [
    "my_set = {1 , \"Hi\", 5.65, True}\n",
    "my_set"
   ]
  },
  {
   "cell_type": "code",
   "execution_count": 32,
   "id": "6f839d77-6704-404b-b0c6-120f697c40ac",
   "metadata": {},
   "outputs": [
    {
     "data": {
      "text/plain": [
       "{'1', 5.65, 'Hi', True}"
      ]
     },
     "execution_count": 32,
     "metadata": {},
     "output_type": "execute_result"
    }
   ],
   "source": [
    "my_set = {\"1\" , \"Hi\", 5.65, True} #Programming language thinks 1 as True\n",
    "my_set"
   ]
  },
  {
   "cell_type": "code",
   "execution_count": 46,
   "id": "b5ceab22-d4e8-4d1d-b9a0-38e79919cec2",
   "metadata": {},
   "outputs": [
    {
     "data": {
      "text/plain": [
       "{'Tom': 30, 'Harry': 19}"
      ]
     },
     "execution_count": 46,
     "metadata": {},
     "output_type": "execute_result"
    }
   ],
   "source": [
    "#Python Dictionary\n",
    "ages_dict = {\"Tom\": 30, \"Harry\": 19}\n",
    "ages_dict"
   ]
  },
  {
   "cell_type": "code",
   "execution_count": 48,
   "id": "66486fbc-f4a5-4a86-a924-3ae14ae385fc",
   "metadata": {},
   "outputs": [
    {
     "data": {
      "text/plain": [
       "{'Chicago': 3.5, 'New York': 7, 'LA': 6}"
      ]
     },
     "execution_count": 48,
     "metadata": {},
     "output_type": "execute_result"
    }
   ],
   "source": [
    "city_pop = {\n",
    "    \"Chicago\" : 3.5,\n",
    "    \"New York\": 7,\n",
    "    \"LA\": 6\n",
    "}\n",
    "city_pop"
   ]
  },
  {
   "cell_type": "code",
   "execution_count": 50,
   "id": "0f926b88-b5c7-4d9b-af6a-40445bb7d759",
   "metadata": {},
   "outputs": [
    {
     "data": {
      "text/plain": [
       "3.5"
      ]
     },
     "execution_count": 50,
     "metadata": {},
     "output_type": "execute_result"
    }
   ],
   "source": [
    "city_pop[\"Chicago\"]"
   ]
  },
  {
   "cell_type": "code",
   "execution_count": 54,
   "id": "0f0fc797-61bb-4069-9775-285decf6412b",
   "metadata": {},
   "outputs": [
    {
     "data": {
      "text/plain": [
       "dict_keys(['Chicago', 'New York', 'LA'])"
      ]
     },
     "execution_count": 54,
     "metadata": {},
     "output_type": "execute_result"
    }
   ],
   "source": [
    "city_pop.keys()"
   ]
  },
  {
   "cell_type": "code",
   "execution_count": 56,
   "id": "6cf9baa7-9621-40f8-aa12-acf71f663567",
   "metadata": {},
   "outputs": [
    {
     "data": {
      "text/plain": [
       "dict_values([3.5, 7, 6])"
      ]
     },
     "execution_count": 56,
     "metadata": {},
     "output_type": "execute_result"
    }
   ],
   "source": [
    "city_pop.values()"
   ]
  },
  {
   "cell_type": "code",
   "execution_count": 58,
   "id": "761588ed-7150-4959-bbcd-767070ea3ab6",
   "metadata": {},
   "outputs": [
    {
     "data": {
      "text/plain": [
       "dict_items([('Chicago', 3.5), ('New York', 7), ('LA', 6)])"
      ]
     },
     "execution_count": 58,
     "metadata": {},
     "output_type": "execute_result"
    }
   ],
   "source": [
    "city_pop.items()"
   ]
  },
  {
   "cell_type": "code",
   "execution_count": 60,
   "id": "fa92227d-9099-420f-bc07-16dfdef55b9e",
   "metadata": {},
   "outputs": [
    {
     "data": {
      "text/plain": [
       "False"
      ]
     },
     "execution_count": 60,
     "metadata": {},
     "output_type": "execute_result"
    }
   ],
   "source": [
    "\"San Francisco\" in city_pop"
   ]
  },
  {
   "cell_type": "code",
   "execution_count": 2,
   "id": "18377429-85f5-4c05-aca7-2d17317e41a5",
   "metadata": {},
   "outputs": [
    {
     "name": "stdout",
     "output_type": "stream",
     "text": [
      "{'New York': 50, 'Los Angeles': 40, 'Chicago': 30}\n"
     ]
    }
   ],
   "source": [
    "city_pop = {\"New York\": 50, \"Los Angeles\": 40}\n",
    "\n",
    "# Update Chicago population\n",
    "city_pop.update({\"Chicago\": 30})\n",
    "\n",
    "# Check the result\n",
    "print(city_pop)"
   ]
  },
  {
   "cell_type": "code",
   "execution_count": null,
   "id": "b3ea1a11-d12c-4b95-8fb1-eeb3a2316c82",
   "metadata": {},
   "outputs": [],
   "source": []
  }
 ],
 "metadata": {
  "kernelspec": {
   "display_name": "Python 3 (ipykernel)",
   "language": "python",
   "name": "python3"
  },
  "language_info": {
   "codemirror_mode": {
    "name": "ipython",
    "version": 3
   },
   "file_extension": ".py",
   "mimetype": "text/x-python",
   "name": "python",
   "nbconvert_exporter": "python",
   "pygments_lexer": "ipython3",
   "version": "3.12.4"
  }
 },
 "nbformat": 4,
 "nbformat_minor": 5
}
