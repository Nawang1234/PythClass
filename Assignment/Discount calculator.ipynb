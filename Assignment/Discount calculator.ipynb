{
 "cells": [
  {
   "cell_type": "code",
   "execution_count": 3,
   "id": "f1ed9b4a-1b03-4d06-bdf8-db16768f4f79",
   "metadata": {},
   "outputs": [
    {
     "name": "stdout",
     "output_type": "stream",
     "text": [
      "You are eligible to receive a 10% discount\n",
      "3150.0\n"
     ]
    }
   ],
   "source": [
    "cost_food = 3500\n",
    "\n",
    "if 500 < cost_food <= 1000:\n",
    "    print(\"You are eligible to receive a 5% discount\")\n",
    "    discounted_price = cost_food - (5 / 100 * cost_food)\n",
    "    print(discounted_price)\n",
    "\n",
    "elif 1000 < cost_food <= 5000:\n",
    "    print(\"You are eligible to receive a 10% discount\")\n",
    "    discounted_price = cost_food - (10 / 100 * cost_food)\n",
    "    print(discounted_price)\n",
    "\n",
    "elif cost_food > 5000:\n",
    "    print(\"You are eligible to receive a 15% discount\")\n",
    "    discounted_price = cost_food - (15 / 100 * cost_food)\n",
    "    print(discounted_price)\n",
    "\n",
    "else:\n",
    "    print(\"No discount\")"
   ]
  },
  {
   "cell_type": "code",
   "execution_count": null,
   "id": "f25c8632-d746-42d4-a373-11e119996230",
   "metadata": {},
   "outputs": [],
   "source": []
  }
 ],
 "metadata": {
  "kernelspec": {
   "display_name": "Python 3 (ipykernel)",
   "language": "python",
   "name": "python3"
  },
  "language_info": {
   "codemirror_mode": {
    "name": "ipython",
    "version": 3
   },
   "file_extension": ".py",
   "mimetype": "text/x-python",
   "name": "python",
   "nbconvert_exporter": "python",
   "pygments_lexer": "ipython3",
   "version": "3.12.4"
  }
 },
 "nbformat": 4,
 "nbformat_minor": 5
}
