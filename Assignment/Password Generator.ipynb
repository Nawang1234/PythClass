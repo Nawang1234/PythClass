{
 "cells": [
  {
   "cell_type": "code",
   "execution_count": 2,
   "id": "00e61cea-1f36-4e61-b896-f65341c9043a",
   "metadata": {},
   "outputs": [
    {
     "name": "stdin",
     "output_type": "stream",
     "text": [
      "Enter the desired password length:  10\n",
      "Include uppercase letters? (y/n):  y\n",
      "Include lowercase letters? (y/n):  y\n",
      "Include digits? (y/n):  y\n",
      "Include special characters? (y/n):  y\n"
     ]
    },
    {
     "name": "stdout",
     "output_type": "stream",
     "text": [
      "Generated Password: *WRXvRJq2O\n"
     ]
    }
   ],
   "source": [
    "import string\n",
    "import random\n",
    "\n",
    "def password_generate(length = 12, lower_case = True, upper_case = True, include_digit = True, include_special = True):\n",
    "    character \" \"\n",
    "    if include_digit:\n",
    "        character = string.digit\n",
    "    if include_special:\n",
    "        character = string.punctuation\n",
    "    if upper_case:\n",
    "        character = string.ascii_uppercase\n",
    "    if lower_case:\n",
    "        character = string.ascii_lowercase\n",
    "    if not character:\n",
    "        raise Valueerror (\"At lea"
   ]
  },
  {
   "cell_type": "code",
   "execution_count": null,
   "id": "0018d3f4-1d84-4cd5-a09b-7238029364dd",
   "metadata": {},
   "outputs": [],
   "source": []
  }
 ],
 "metadata": {
  "kernelspec": {
   "display_name": "Python 3 (ipykernel)",
   "language": "python",
   "name": "python3"
  },
  "language_info": {
   "codemirror_mode": {
    "name": "ipython",
    "version": 3
   },
   "file_extension": ".py",
   "mimetype": "text/x-python",
   "name": "python",
   "nbconvert_exporter": "python",
   "pygments_lexer": "ipython3",
   "version": "3.12.4"
  }
 },
 "nbformat": 4,
 "nbformat_minor": 5
}
