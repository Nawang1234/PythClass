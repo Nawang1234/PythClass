{
 "cells": [
  {
   "cell_type": "code",
   "execution_count": 2,
   "id": "4d19165c-58d2-4d93-84c3-78f3ef830800",
   "metadata": {},
   "outputs": [
    {
     "name": "stdin",
     "output_type": "stream",
     "text": [
      "Enter the number of people:  1201\n"
     ]
    },
    {
     "name": "stdout",
     "output_type": "stream",
     "text": [
      "Each person needs to pay: Rs 5.470441298917569\n"
     ]
    }
   ],
   "source": [
    "# Problem 3: Bill Splitter\n",
    "# You and your friends went to a restaurant. The bill is Rs 6570. Write a Python program that asks for\n",
    "# the number of people and splits the bill equally among them. Ensure the output shows how much\n",
    "# each person needs to pay.\n",
    "total_bill = 6570\n",
    "\n",
    "# Input for the number of people\n",
    "number_of_people = float(input(\"Enter the number of people: \"))\n",
    "\n",
    "if number_of_people > 0:\n",
    "    # Calculate the amount each person needs to pay\n",
    "    amount_per_person = total_bill / number_of_people\n",
    "    print(f\"Each person needs to pay: Rs {amount_per_person}\")\n",
    "else:\n",
    "    print(\"The number of people must be greater than zero.\")"
   ]
  },
  {
   "cell_type": "code",
   "execution_count": null,
   "id": "117260dc-8e48-49c3-bb82-003c28c00a58",
   "metadata": {},
   "outputs": [],
   "source": []
  }
 ],
 "metadata": {
  "kernelspec": {
   "display_name": "Python 3 (ipykernel)",
   "language": "python",
   "name": "python3"
  },
  "language_info": {
   "codemirror_mode": {
    "name": "ipython",
    "version": 3
   },
   "file_extension": ".py",
   "mimetype": "text/x-python",
   "name": "python",
   "nbconvert_exporter": "python",
   "pygments_lexer": "ipython3",
   "version": "3.12.4"
  }
 },
 "nbformat": 4,
 "nbformat_minor": 5
}
