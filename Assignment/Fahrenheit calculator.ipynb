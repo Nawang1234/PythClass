{
 "cells": [
  {
   "cell_type": "code",
   "execution_count": 4,
   "id": "22b382fb-e2ba-416f-b476-ce7da2f7b679",
   "metadata": {},
   "outputs": [
    {
     "name": "stdin",
     "output_type": "stream",
     "text": [
      " ENTER THE TEMPERATURE VALUE IN CELSIUS:  20\n"
     ]
    },
    {
     "name": "stdout",
     "output_type": "stream",
     "text": [
      "the temperature value in celsius: 68.0\n"
     ]
    }
   ],
   "source": [
    "#Problem 2: Temperature Conversion\n",
    "# Write a program that converts a temperature from Celsius to Fahrenheit. The formula for conversion\n",
    "# is:\n",
    "# Where C is the temperature in Celsius and F is the temperature in Fahrenheit.\n",
    "temperature_celsius = float(input(\" ENTER THE TEMPERATURE VALUE IN CELSIUS: \"))\n",
    "\n",
    "temperature_fahrenheit = ((temperature_celsius * 9)/5+32)\n",
    "\n",
    "print (f\"the temperature value in celsius: {temperature_fahrenheit}\")\n",
    "\n",
    "                "
   ]
  },
  {
   "cell_type": "code",
   "execution_count": null,
   "id": "09a2944d-3a9c-4661-8487-d5b7d5a47953",
   "metadata": {},
   "outputs": [],
   "source": []
  }
 ],
 "metadata": {
  "kernelspec": {
   "display_name": "Python 3 (ipykernel)",
   "language": "python",
   "name": "python3"
  },
  "language_info": {
   "codemirror_mode": {
    "name": "ipython",
    "version": 3
   },
   "file_extension": ".py",
   "mimetype": "text/x-python",
   "name": "python",
   "nbconvert_exporter": "python",
   "pygments_lexer": "ipython3",
   "version": "3.12.4"
  }
 },
 "nbformat": 4,
 "nbformat_minor": 5
}
