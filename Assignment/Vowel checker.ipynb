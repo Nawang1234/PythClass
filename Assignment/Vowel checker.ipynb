{
 "cells": [
  {
   "cell_type": "code",
   "execution_count": 3,
   "id": "05e624c2-b5f7-4407-b628-26aa1c6fc1b1",
   "metadata": {},
   "outputs": [
    {
     "name": "stdin",
     "output_type": "stream",
     "text": [
      "Enter a word:  television\n"
     ]
    },
    {
     "name": "stdout",
     "output_type": "stream",
     "text": [
      "The number of vowels in the word is 5\n"
     ]
    }
   ],
   "source": [
    "# Write a Python program that takes a string as input and counts the number of vowels (a, e, i,\n",
    "# o, u) in it. Ignore case sensitivity.\n",
    "letter = input(\"Enter a word: \")\n",
    "vowels = [\"a\", \"e\", \"i\", \"o\", \"u\", \"A\", \"E\", \"I\", \"O\", \"U\"]  # Include uppercase vowels\n",
    "num_vowel = 0\n",
    "\n",
    "for char in letter:  \n",
    "    if char in vowels:\n",
    "        num_vowel += 1  \n",
    "\n",
    "print(f\"The number of vowels in the word is {num_vowel}\")"
   ]
  },
  {
   "cell_type": "code",
   "execution_count": null,
   "id": "bac3c131-c41b-4be2-bb16-2867256fd00c",
   "metadata": {},
   "outputs": [],
   "source": [
    "\n"
   ]
  }
 ],
 "metadata": {
  "kernelspec": {
   "display_name": "Python 3 (ipykernel)",
   "language": "python",
   "name": "python3"
  },
  "language_info": {
   "codemirror_mode": {
    "name": "ipython",
    "version": 3
   },
   "file_extension": ".py",
   "mimetype": "text/x-python",
   "name": "python",
   "nbconvert_exporter": "python",
   "pygments_lexer": "ipython3",
   "version": "3.12.4"
  }
 },
 "nbformat": 4,
 "nbformat_minor": 5
}
