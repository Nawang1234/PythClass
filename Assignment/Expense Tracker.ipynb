{
 "cells": [
  {
   "cell_type": "code",
   "execution_count": 12,
   "id": "5b7c5b2a-3c8f-4707-8d6b-a0ab357a2da7",
   "metadata": {},
   "outputs": [
    {
     "name": "stdout",
     "output_type": "stream",
     "text": [
      "Expense Tracker\n"
     ]
    },
    {
     "name": "stdin",
     "output_type": "stream",
     "text": [
      "Enter the total budget:  10000\n"
     ]
    },
    {
     "name": "stdout",
     "output_type": "stream",
     "text": [
      "Now enter the category and expenses\n"
     ]
    },
    {
     "name": "stdin",
     "output_type": "stream",
     "text": [
      "Enter the name of the category:  Food\n",
      "Enter the price of the mentioned category:  1000\n",
      "Want to add more categories: Yes/No  No\n"
     ]
    },
    {
     "name": "stdout",
     "output_type": "stream",
     "text": [
      "Your expense for Food is 1000\n",
      "\n",
      "Your total budget for the month is:  10000\n",
      "Your total expenses are:  1000\n",
      "Your total savings for the month are:  9000\n"
     ]
    }
   ],
   "source": [
    "print(\"Expense Tracker\")\n",
    "Items = []\n",
    "Price_of_item = []\n",
    "\n",
    "more = True\n",
    "\n",
    "total_budget = int(input(\"Enter the total budget: \"))\n",
    "print(\"Now enter the category and expenses\")\n",
    "\n",
    "while more:\n",
    "    Items.append(input(\"Enter the name of the category: \"))\n",
    "    Price_of_item.append(int(input(\"Enter the price of the mentioned category: \")))\n",
    "\n",
    "    more_category = input(\"Want to add more categories: Yes/No \").capitalize()  # Capitalize for uniformity\n",
    "    if more_category == 'Yes':\n",
    "        more = True\n",
    "    elif more_category == 'No':\n",
    "        more = False\n",
    "    else:\n",
    "        print(\"Invalid choice, choose Yes/No\")\n",
    "\n",
    "# Create a dictionary with the items and their prices\n",
    "item_price = dict(zip(Items, Price_of_item))\n",
    "\n",
    "# Display expenses for each category\n",
    "for key, value in item_price.items():\n",
    "    print(f\"Your expense for {key} is {value}\")\n",
    "\n",
    "# Calculate the total expenses\n",
    "total_expenses = sum(Price_of_item)\n",
    "\n",
    "# Display budget details\n",
    "print(\"\\nYour total budget for the month is: \", total_budget)\n",
    "print(\"Your total expenses are: \", total_expenses)\n",
    "print(\"Your total savings for the month are: \", total_budget - total_expenses)\n",
    "\n",
    "# Warn if expenses exceed the budget\n",
    "if total_expenses > total_budget:\n",
    "    print(\"You really need to cut some expenses and start saving! :(\")"
   ]
  },
  {
   "cell_type": "code",
   "execution_count": null,
   "id": "2ead1ee3-a116-42bf-8201-37e13aad5ca6",
   "metadata": {},
   "outputs": [],
   "source": []
  }
 ],
 "metadata": {
  "kernelspec": {
   "display_name": "Python 3 (ipykernel)",
   "language": "python",
   "name": "python3"
  },
  "language_info": {
   "codemirror_mode": {
    "name": "ipython",
    "version": 3
   },
   "file_extension": ".py",
   "mimetype": "text/x-python",
   "name": "python",
   "nbconvert_exporter": "python",
   "pygments_lexer": "ipython3",
   "version": "3.12.4"
  }
 },
 "nbformat": 4,
 "nbformat_minor": 5
}
