{
 "cells": [
  {
   "cell_type": "code",
   "execution_count": 2,
   "id": "ae09a74d-5cca-4516-9a43-fd2bd7c5ec3f",
   "metadata": {},
   "outputs": [
    {
     "name": "stdin",
     "output_type": "stream",
     "text": [
      "Enter the name of item 1:  biscuit\n",
      "Enter the price of biscuit:  100\n",
      "Enter the name of item 2:  chips\n",
      "Enter the price of chips:  20\n",
      "Enter the name of item 3:  banana\n",
      "Enter the price of banana:  10\n",
      "Enter the name of item 4:  cheese\n",
      "Enter the price of cheese:  1200\n",
      "Enter the name of item 5:  juice\n",
      "Enter the price of juice:  50\n"
     ]
    },
    {
     "name": "stdout",
     "output_type": "stream",
     "text": [
      "Items in the grocery:\n",
      "- biscuit: Rs 100.0\n",
      "- chips: Rs 20.0\n",
      "- banana: Rs 10.0\n",
      "- cheese: Rs 1200.0\n",
      "- juice: Rs 50.0\n",
      "Total cost of all items: Rs 1380.0\n"
     ]
    }
   ],
   "source": [
    "# You are managing a grocery store inventory. Write a program that asks the user to input the name\n",
    "# and price of 5 items and store them in a list. Then, display the total cost of all items.\n",
    "\n",
    "items = []\n",
    "total_cost = 0.0\n",
    "\n",
    "for i in range(5):\n",
    "    name_item = input(f\"Enter the name of item {i + 1}: \")\n",
    "    price_item = float(input(f\"Enter the price of {name_item}: \"))\n",
    "    total_cost += price_item  # Add price to total cost\n",
    "    items.append((name_item, price_item))  # Store as a tuple\n",
    "\n",
    "print(\"Items in the grocery:\")\n",
    "for name, price in items:\n",
    "    print(f\"- {name}: Rs {price}\")\n",
    "\n",
    "# Print the total cost of all items\n",
    "print(f\"Total cost of all items: Rs {total_cost}\")                                                                                                                                                                                                                                                                                                                                                                                                                                                                                                                                                                                                                                                                                                                                                                                                                                                                                                                                                                                                                                                                                                                                                                                                                                                                                                                                                                                                                                                                                                                                                                                                                                                                                                                                                                                                                                                                                                                                                                                                                                                                                                                                                                                                                                                                                                                                                                                                                                                                                                                                                           "
   ]
  },
  {
   "cell_type": "code",
   "execution_count": null,
   "id": "913a761e-6874-41d8-ad1a-91283fd0fd54",
   "metadata": {},
   "outputs": [],
   "source": []
  }
 ],
 "metadata": {
  "kernelspec": {
   "display_name": "Python 3 (ipykernel)",
   "language": "python",
   "name": "python3"
  },
  "language_info": {
   "codemirror_mode": {
    "name": "ipython",
    "version": 3
   },
   "file_extension": ".py",
   "mimetype": "text/x-python",
   "name": "python",
   "nbconvert_exporter": "python",
   "pygments_lexer": "ipython3",
   "version": "3.12.4"
  }
 },
 "nbformat": 4,
 "nbformat_minor": 5
}
