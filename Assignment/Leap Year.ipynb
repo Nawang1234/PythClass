{
 "cells": [
  {
   "cell_type": "code",
   "execution_count": 2,
   "id": "9e543507-12a6-46a9-937f-0ba998137d4e",
   "metadata": {},
   "outputs": [
    {
     "name": "stdout",
     "output_type": "stream",
     "text": [
      "The year 2024 is a leap year.\n"
     ]
    }
   ],
   "source": [
    "#Write a program that checks whether a given year is a leap year or not. A year is a leap year if it is:\n",
    "# Divisible by 4, but not divisible by 100, or\n",
    "# Divisible by 400.\n",
    "    \n",
    "year = 2024  # You can change this value to test different years\n",
    "\n",
    "if (year % 4 == 0 and (year % 100 != 0 or year % 400 == 0)):\n",
    "    print(f\"The year {year} is a leap year.\")\n",
    "else:\n",
    "    print(f\"The year {year} is not a leap year.\")"
   ]
  },
  {
   "cell_type": "code",
   "execution_count": null,
   "id": "cb735f3a-72a0-4354-b55b-1e7a122403ac",
   "metadata": {},
   "outputs": [],
   "source": []
  }
 ],
 "metadata": {
  "kernelspec": {
   "display_name": "Python 3 (ipykernel)",
   "language": "python",
   "name": "python3"
  },
  "language_info": {
   "codemirror_mode": {
    "name": "ipython",
    "version": 3
   },
   "file_extension": ".py",
   "mimetype": "text/x-python",
   "name": "python",
   "nbconvert_exporter": "python",
   "pygments_lexer": "ipython3",
   "version": "3.12.4"
  }
 },
 "nbformat": 4,
 "nbformat_minor": 5
}
