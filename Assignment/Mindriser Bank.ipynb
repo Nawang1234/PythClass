{
 "cells": [
  {
   "cell_type": "code",
   "execution_count": 1,
   "id": "d0b59a3c-6d3b-402d-9ede-4d6d27e41b77",
   "metadata": {},
   "outputs": [
    {
     "name": "stdout",
     "output_type": "stream",
     "text": [
      "  ------------------MINDRISERS BANK------------------\n",
      "  ------------The Real Bank That You Need-------------\n",
      "\n",
      "|------------------------------------------------------|\n",
      "|               1. Create an Account                   |\n",
      "|               2. Deposit an Amount                   |\n",
      "|               3. Withdrawl                           |\n",
      "|               4. Check Balance                       |\n",
      "|               5. Exit                                |\n",
      "|------------------------------------------------------|\n"
     ]
    },
    {
     "name": "stdin",
     "output_type": "stream",
     "text": [
      "Enter you Choice:  1\n"
     ]
    },
    {
     "name": "stdout",
     "output_type": "stream",
     "text": [
      "            -------Wel-Come--------\n",
      "Follow the following steps to Create an Account:\n"
     ]
    },
    {
     "name": "stdin",
     "output_type": "stream",
     "text": [
      "Enter your Full Name:  Nawang sherpa\n",
      "Enter your Age:  22\n",
      "Enter your Home Address:  Boudha\n",
      "Enter your Phone Number:  9818581931\n",
      "Enter your Email:  nawangla12@gmail.com\n"
     ]
    },
    {
     "name": "stdout",
     "output_type": "stream",
     "text": [
      "Your Account is sucessfully Created:)\n"
     ]
    }
   ],
   "source": [
    "def guiFunction(): # basic gui \n",
    "   # clear()\n",
    "    print(\"  ------------------MINDRISERS BANK------------------\")\n",
    "    print(\"  ------------The Real Bank That You Need-------------\")\n",
    "    print()\n",
    "    print(\"|------------------------------------------------------|\")\n",
    "    print(\"|               1. Create an Account                   |\")\n",
    "    print(\"|               2. Deposit an Amount                   |\")\n",
    "    print(\"|               3. Withdrawl                           |\")\n",
    "    print(\"|               4. Check Balance                       |\")\n",
    "    print(\"|               5. Exit                                |\")\n",
    "    print(\"|------------------------------------------------------|\")\n",
    "def logiFunction(): #locical section of the simple program ,,, can be modified more to get the full version\n",
    "    choice = int(input(\"Enter you Choice: \"))\n",
    "    if choice == 1 :\n",
    "        print(\"            -------Wel-Come--------\")\n",
    "        print(\"Follow the following steps to Create an Account:\")\n",
    "        user1.createAccount()\n",
    "    elif choice == 2 :\n",
    "        print(\"-----------Deposit-----------\")\n",
    "        user1.depositAmount()\n",
    "    elif choice == 3 :\n",
    "        print(\"-----------Withdrawl--------------\")\n",
    "        user1.withDrawl()\n",
    "    elif choice == 4 :\n",
    "        print(\"-----------Check Balance-----------\")\n",
    "        user1.checkBalance()\n",
    "    else:\n",
    "        print(\"Thank you :) Visit Again :) \")\n",
    "class AccountCreation: # class containig all the inmportant function in the program \n",
    "    depAmount = 0\n",
    "    cashout = 0 \n",
    "    totalBalance = depAmount - cashout\n",
    "    def createAccount(self):\n",
    "        userName = input(\"Enter your Full Name: \")\n",
    "        userAge = input(\"Enter your Age: \")\n",
    "        userHomeAddress = input(\"Enter your Home Address: \")\n",
    "        userPhoneNumber = input(\"Enter your Phone Number: \")\n",
    "        userEmail = input(\"Enter your Email: \")\n",
    "        print(\"Your Account is sucessfully Created:)\")\n",
    "\n",
    "    def depositAmount(self):\n",
    "        depAmount = int(input(\"Enter The Amount You Want To Deposit: \"))\n",
    "        print(f\"You have sucessfully deposited {depAmount} to your account\")\n",
    "\n",
    "    def withDrawl(self):\n",
    "        cashout = int(input(\"Enter The Amount You Want To WithDrawl: \"))\n",
    "        if cashout <= depAmount:\n",
    "            print(\"You have sucessfully withdrawl: \",cashout)\n",
    "        else: \n",
    "            print(\"Insufficient Cash!! Deposit Cash to Withdrawl\")\n",
    "            \n",
    "    def checkBalance(self):\n",
    "        totalBalance = depAmount - cashout\n",
    "        print(\"Your Total Balance Is: \",totalBalace)\n",
    "                    \n",
    "user1 = AccountCreation()      \n",
    "guiFunction() #calling gui function to get the gui \n",
    "logiFunction() #calling logifuncton to run the logic inside the code "
   ]
  },
  {
   "cell_type": "code",
   "execution_count": null,
   "id": "291ae243-def3-43fb-ab77-5060a8d19777",
   "metadata": {},
   "outputs": [],
   "source": []
  }
 ],
 "metadata": {
  "kernelspec": {
   "display_name": "Python 3 (ipykernel)",
   "language": "python",
   "name": "python3"
  },
  "language_info": {
   "codemirror_mode": {
    "name": "ipython",
    "version": 3
   },
   "file_extension": ".py",
   "mimetype": "text/x-python",
   "name": "python",
   "nbconvert_exporter": "python",
   "pygments_lexer": "ipython3",
   "version": "3.12.4"
  }
 },
 "nbformat": 4,
 "nbformat_minor": 5
}
