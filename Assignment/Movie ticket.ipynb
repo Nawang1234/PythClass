{
 "cells": [
  {
   "cell_type": "code",
   "execution_count": null,
   "id": "5c703cd7-1fa3-47f5-ab99-65c7b5f90043",
   "metadata": {},
   "outputs": [],
   "source": [
    "#Problem 8: Movie Ticket Price Calculator\n",
    "#Write a program that calculates the price of a movie ticket based on the user's age. Ticket prices are\n",
    "#as follows:\n",
    "#Age under 18: Rs 108\n",
    "# Age 18-60: Rs 450\n",
    "#Age above 60: Rs 150\n",
    "#The program should ask the user their age and print the correct ticket price.\n",
    "\n",
    "age = int(input(\"What is your age: \"))  # Convert the input to an integer\n",
    "\n",
    "if age < 18:\n",
    "    print(\"The movie ticket is Nrs. 108\")\n",
    "elif 18 <= age < 60:  \n",
    "    print(\"The movie ticket is Nrs. 450\")\n",
    "else: \n",
    "    print(\"The movie ticket is Nrs. 150\")\n",
    "\n",
    "\n"
   ]
  }
 ],
 "metadata": {
  "kernelspec": {
   "display_name": "Python 3 (ipykernel)",
   "language": "python",
   "name": "python3"
  },
  "language_info": {
   "codemirror_mode": {
    "name": "ipython",
    "version": 3
   },
   "file_extension": ".py",
   "mimetype": "text/x-python",
   "name": "python",
   "nbconvert_exporter": "python",
   "pygments_lexer": "ipython3",
   "version": "3.12.4"
  }
 },
 "nbformat": 4,
 "nbformat_minor": 5
}
