{
 "cells": [
  {
   "cell_type": "code",
   "execution_count": 2,
   "id": "7e6a7c2c-f4e4-485c-a31a-ca291f843bb5",
   "metadata": {},
   "outputs": [
    {
     "name": "stdout",
     "output_type": "stream",
     "text": [
      "Requirement already satisfied: joblib in /opt/anaconda3/lib/python3.12/site-packages (1.4.2)\n",
      "Note: you may need to restart the kernel to use updated packages.\n"
     ]
    }
   ],
   "source": [
    "pip install joblib\n"
   ]
  },
  {
   "cell_type": "code",
   "execution_count": 2,
   "id": "88736ed6-5b55-4795-8ded-1f60bdd2e6c8",
   "metadata": {},
   "outputs": [
    {
     "name": "stderr",
     "output_type": "stream",
     "text": [
      "2025-03-19 12:47:47.738 \n",
      "  \u001b[33m\u001b[1mWarning:\u001b[0m to view this Streamlit app on a browser, run it with the following\n",
      "  command:\n",
      "\n",
      "    streamlit run /opt/anaconda3/lib/python3.12/site-packages/ipykernel_launcher.py [ARGUMENTS]\n"
     ]
    }
   ],
   "source": [
    "import streamlit as st\n",
    "import pandas as pd\n",
    "import numpy as np\n",
    "import joblib\n",
    "from sklearn.preprocessing import LabelEncoder, StandardScaler\n",
    "from sklearn.impute import SimpleImputer\n",
    "from sklearn.model_selection import train_test_split\n",
    "from sklearn.ensemble import RandomForestClassifier\n",
    "from sklearn.metrics import accuracy_score\n",
    "\n",
    "# Title\n",
    "st.title(\"Athlete Medal Prediction App\")\n",
    "\n",
    "# File Upload\n",
    "uploaded_file = st.file_uploader(\"Upload CSV file\", type=[\"csv\"])\n",
    "\n",
    "def preprocess_data(df):\n",
    "    # Drop irrelevant columns\n",
    "    df = df.drop(columns=[\"ID\", \"Name\"], errors='ignore')\n",
    "    \n",
    "    # Handle missing values\n",
    "    categorical_imputer = SimpleImputer(strategy='most_frequent')\n",
    "    numerical_imputer = SimpleImputer(strategy='median')\n",
    "    \n",
    "    categorical_columns = df.select_dtypes(include=['object']).columns\n",
    "    numerical_columns = df.select_dtypes(exclude=['object']).columns\n",
    "    \n",
    "    df[categorical_columns] = categorical_imputer.fit_transform(df[categorical_columns])\n",
    "    df[numerical_columns] = numerical_imputer.fit_transform(df[numerical_columns])\n",
    "    \n",
    "    # Encode categorical variables\n",
    "    label_encoders = {}\n",
    "    for col in categorical_columns:\n",
    "        le = LabelEncoder()\n",
    "        df[col] = le.fit_transform(df[col])\n",
    "        label_encoders[col] = le\n",
    "    \n",
    "    # Scale numerical features\n",
    "    scaler = StandardScaler()\n",
    "    df[numerical_columns] = scaler.fit_transform(df[numerical_columns])\n",
    "    \n",
    "    return df, label_encoders, scaler\n",
    "\n",
    "if uploaded_file:\n",
    "    df = pd.read_csv(uploaded_file)\n",
    "    st.write(\"Dataset Preview:\", df.head())\n",
    "    \n",
    "    if \"Medal\" in df.columns:\n",
    "        df[\"Medal\"] = df[\"Medal\"].fillna(\"None\")\n",
    "        df[\"Medal\"] = df[\"Medal\"].apply(lambda x: 1 if x != \"None\" else 0)\n",
    "        \n",
    "        X = df.drop(columns=[\"Medal\"], errors='ignore')\n",
    "        y = df[\"Medal\"]\n",
    "        \n",
    "        # Preprocess Data\n",
    "        X, encoders, scaler = preprocess_data(X)\n",
    "        \n",
    "        # Split Data\n",
    "        X_train, X_test, y_train, y_test = train_test_split(X, y, test_size=0.2, random_state=42)\n",
    "        \n",
    "        # Train Model\n",
    "        model = RandomForestClassifier(n_estimators=100, random_state=42)\n",
    "        model.fit(X_train, y_train)\n",
    "        \n",
    "        # Evaluate Model\n",
    "        y_pred = model.predict(X_test)\n",
    "        accuracy = accuracy_score(y_test, y_pred)\n",
    "        st.write(f\"Model Accuracy: {accuracy:.2f}\")\n",
    "        \n",
    "        # Save model\n",
    "        joblib.dump(model, \"athlete_medal_model.pkl\")\n",
    "        joblib.dump(encoders, \"label_encoders.pkl\")\n",
    "        joblib.dump(scaler, \"scaler.pkl\")\n",
    "        \n",
    "        st.success(\"Model Trained and Saved Successfully!\")\n",
    "        \n",
    "        # Prediction Section\n",
    "        st.subheader(\"Predict Medal for New Athletes\")\n",
    "        input_data = {}\n",
    "        \n",
    "        for col in X.columns:\n",
    "            input_data[col] = st.number_input(f\"{col}\", value=float(X[col].mean()))\n",
    "        \n",
    "        if st.button(\"Predict\"):\n",
    "            input_df = pd.DataFrame([input_data])\n",
    "            input_df[X.columns] = scaler.transform(input_df[X.columns])\n",
    "            prediction = model.predict(input_df)[0]\n",
    "            result = \"Won a Medal\" if prediction == 1 else \"No Medal\"\n",
    "            st.write(f\"Prediction: {result}\")\n",
    "            \n"
   ]
  },
  {
   "cell_type": "markdown",
   "id": "87e8d643",
   "metadata": {},
   "source": [
    "2025-02-11 21:29:12.599 \n",
    "  \u001b[33m\u001b[1mWarning:\u001b[0m to view this Streamlit app on a browser, run it with the following\n",
    "  command:\n",
    "\n",
    "    streamlit run /opt/anaconda3/lib/python3.12/site-packages/ipykernel_launcher.py [ARGUMENTS]\n",
    "    "
   ]
  }
 ],
 "metadata": {
  "kernelspec": {
   "display_name": "Python 3 (ipykernel)",
   "language": "python",
   "name": "python3"
  },
  "language_info": {
   "codemirror_mode": {
    "name": "ipython",
    "version": 3
   },
   "file_extension": ".py",
   "mimetype": "text/x-python",
   "name": "python",
   "nbconvert_exporter": "python",
   "pygments_lexer": "ipython3",
   "version": "3.12.4"
  }
 },
 "nbformat": 4,
 "nbformat_minor": 5
}
