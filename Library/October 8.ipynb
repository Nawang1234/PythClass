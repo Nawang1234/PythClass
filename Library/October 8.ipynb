{
 "cells": [
  {
   "cell_type": "code",
   "execution_count": 2,
   "id": "0ae60378-89f6-4012-a583-3feb76a99794",
   "metadata": {},
   "outputs": [
    {
     "data": {
      "text/plain": [
       "array([-3,  0,  3,  4,  8])"
      ]
     },
     "execution_count": 2,
     "metadata": {},
     "output_type": "execute_result"
    }
   ],
   "source": [
    "import numpy as np\n",
    "x = np.array([3,4,-3,0,8])\n",
    "np.sort(x)"
   ]
  },
  {
   "cell_type": "code",
   "execution_count": 4,
   "id": "d4e1736b-8d77-4a3c-a14c-845edcd4fc55",
   "metadata": {},
   "outputs": [
    {
     "data": {
      "text/plain": [
       "array([2, 4, 0, 1, 3])"
      ]
     },
     "execution_count": 4,
     "metadata": {},
     "output_type": "execute_result"
    }
   ],
   "source": [
    "x = np.array([2,3,-2,7,0])\n",
    "np.argsort(x) #returns the indices of sorted elements"
   ]
  },
  {
   "cell_type": "code",
   "execution_count": 6,
   "id": "51b34552-73ff-4e88-b927-53c9d7bf73ce",
   "metadata": {},
   "outputs": [
    {
     "data": {
      "text/plain": [
       "array([[6, 3, 7, 4, 6, 9],\n",
       "       [2, 6, 7, 4, 3, 7],\n",
       "       [7, 2, 5, 4, 1, 7],\n",
       "       [5, 1, 4, 0, 9, 5]])"
      ]
     },
     "execution_count": 6,
     "metadata": {},
     "output_type": "execute_result"
    }
   ],
   "source": [
    "rand = np.random.RandomState(42)\n",
    "x = rand.randint(0,10,(4,6))\n",
    "x"
   ]
  },
  {
   "cell_type": "code",
   "execution_count": 20,
   "id": "d5d28a34-c57f-4338-a30f-335cbebc21ef",
   "metadata": {},
   "outputs": [
    {
     "name": "stdout",
     "output_type": "stream",
     "text": [
      "[('alice', 35, 60.3) ('nob', 42, 80.2) ('cathy', 25, 75.1)\n",
      " ('steve', 15, 42.4)]\n"
     ]
    }
   ],
   "source": [
    "import numpy as np\n",
    "\n",
    "name = [\"alice\", \"nob\", \"cathy\", \"steve\"]\n",
    "age = [35, 42, 25, 15]\n",
    "weight = [60.3, 80.2, 75.1, 42.4]\n",
    "\n",
    "# Define the structured array with proper dtype\n",
    "data = np.zeros(4, dtype=[('name', 'U10'), ('age', 'i8'), ('weight', 'f8')])\n",
    "\n",
    "# Assign the data\n",
    "data['name'] = name\n",
    "data['age'] = age\n",
    "data['weight'] = weight\n",
    "\n",
    "data.dtype\n",
    "print(data)\n",
    "\n",
    "#U10 : Unicode string of max length\n",
    "#i4: 4-byte integer\n",
    "#f8: 8-byte float"
   ]
  },
  {
   "cell_type": "code",
   "execution_count": 22,
   "id": "5112f0a7-6037-494f-8ec4-a06218bccca9",
   "metadata": {},
   "outputs": [
    {
     "data": {
      "text/plain": [
       "array(['alice', 'nob', 'cathy', 'steve'], dtype='<U10')"
      ]
     },
     "execution_count": 22,
     "metadata": {},
     "output_type": "execute_result"
    }
   ],
   "source": [
    "data['name']"
   ]
  },
  {
   "cell_type": "code",
   "execution_count": 24,
   "id": "e1c2b9e8-2ed0-409f-9677-7b67472c97df",
   "metadata": {},
   "outputs": [
    {
     "data": {
      "text/plain": [
       "('alice', 35, 60.3)"
      ]
     },
     "execution_count": 24,
     "metadata": {},
     "output_type": "execute_result"
    }
   ],
   "source": [
    "data[0]"
   ]
  },
  {
   "cell_type": "code",
   "execution_count": 32,
   "id": "3d577135-d41f-4a53-bd95-1135b9dbb31f",
   "metadata": {},
   "outputs": [],
   "source": [
    "data[0]['name'] = 'Michael'"
   ]
  },
  {
   "cell_type": "code",
   "execution_count": 34,
   "id": "464e1df2-5f79-40d1-8b36-ec7264e7370f",
   "metadata": {},
   "outputs": [
    {
     "data": {
      "text/plain": [
       "('Michael', 35, 60.3)"
      ]
     },
     "execution_count": 34,
     "metadata": {},
     "output_type": "execute_result"
    }
   ],
   "source": [
    "data[0]"
   ]
  },
  {
   "cell_type": "code",
   "execution_count": null,
   "id": "141e98a5-00d0-4197-84ab-e1783b76b32b",
   "metadata": {},
   "outputs": [],
   "source": []
  }
 ],
 "metadata": {
  "kernelspec": {
   "display_name": "Python 3 (ipykernel)",
   "language": "python",
   "name": "python3"
  },
  "language_info": {
   "codemirror_mode": {
    "name": "ipython",
    "version": 3
   },
   "file_extension": ".py",
   "mimetype": "text/x-python",
   "name": "python",
   "nbconvert_exporter": "python",
   "pygments_lexer": "ipython3",
   "version": "3.12.4"
  }
 },
 "nbformat": 4,
 "nbformat_minor": 5
}
