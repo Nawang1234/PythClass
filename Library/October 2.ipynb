{
 "cells": [
  {
   "cell_type": "code",
   "execution_count": 24,
   "id": "24c4e1d6-5a9c-40e3-b2bf-202094bdaa04",
   "metadata": {},
   "outputs": [
    {
     "data": {
      "text/plain": [
       "array([[0.45735224, 0.88832154],\n",
       "       [0.62982093, 0.71849673],\n",
       "       [0.73589967, 0.61270609]])"
      ]
     },
     "execution_count": 24,
     "metadata": {},
     "output_type": "execute_result"
    }
   ],
   "source": [
    "import numpy as np\n",
    "np.random.random((3,2))"
   ]
  },
  {
   "cell_type": "code",
   "execution_count": 30,
   "id": "0eec0fa1-b1c2-449e-a3e4-f07a97114e33",
   "metadata": {},
   "outputs": [
    {
     "data": {
      "text/plain": [
       "array([[3, 2, 1, 0, 2],\n",
       "       [3, 1, 3, 1, 1],\n",
       "       [3, 3, 1, 3, 1],\n",
       "       [2, 2, 2, 3, 1],\n",
       "       [3, 2, 1, 0, 1]])"
      ]
     },
     "execution_count": 30,
     "metadata": {},
     "output_type": "execute_result"
    }
   ],
   "source": [
    "np.random.randint(0, 4, (5,5))"
   ]
  },
  {
   "cell_type": "code",
   "execution_count": 42,
   "id": "ce72317d-07d3-4213-8b2b-8bbb0d7ffbdd",
   "metadata": {},
   "outputs": [
    {
     "data": {
      "text/plain": [
       "array([[2, 3, 3, 0, 1],\n",
       "       [1, 1, 0, 1, 1],\n",
       "       [2, 1, 1, 3, 3],\n",
       "       [2, 3, 2, 2, 1],\n",
       "       [0, 0, 2, 1, 1]])"
      ]
     },
     "execution_count": 42,
     "metadata": {},
     "output_type": "execute_result"
    }
   ],
   "source": [
    "import numpy as np\n",
    "np.random.randint(0, 4, (5, 5))"
   ]
  },
  {
   "cell_type": "code",
   "execution_count": 54,
   "id": "f7ac994a-bbf7-40e8-b8ec-4d64304dfd44",
   "metadata": {},
   "outputs": [
    {
     "name": "stdout",
     "output_type": "stream",
     "text": [
      "[2 6 9 9 0 3]\n",
      "[[6 4 9]\n",
      " [2 9 6]\n",
      " [8 4 8]\n",
      " [6 7 9]]\n",
      "[[[2 8 4 6]\n",
      "  [8 6 3 7]\n",
      "  [4 2 0 3]]\n",
      "\n",
      " [[6 8 3 0]\n",
      "  [9 7 5 0]\n",
      "  [4 3 0 7]]]\n"
     ]
    }
   ],
   "source": [
    "x1 = np.random.randint(10, size = 6)\n",
    "x2 = np.random.randint(10, size = (4,3))\n",
    "x3 = np.random.randint(10, size = (2,3,4))\n",
    "print(x1)\n",
    "print(x2)\n",
    "print(x3)\n"
   ]
  },
  {
   "cell_type": "code",
   "execution_count": 56,
   "id": "97a46c0f-6e4b-4ac1-b6a0-63dd79d22ffb",
   "metadata": {},
   "outputs": [
    {
     "name": "stdout",
     "output_type": "stream",
     "text": [
      "1\n",
      "2\n",
      "3\n"
     ]
    }
   ],
   "source": [
    "print(x1.ndim)\n",
    "print(x2.ndim)\n",
    "print(x3.ndim)"
   ]
  },
  {
   "cell_type": "code",
   "execution_count": 58,
   "id": "38eeedd1-d5f9-49a3-8139-3ef66f65ee5f",
   "metadata": {},
   "outputs": [
    {
     "name": "stdout",
     "output_type": "stream",
     "text": [
      "(6,)\n",
      "(4, 3)\n",
      "(2, 3, 4)\n"
     ]
    }
   ],
   "source": [
    "print(x1.shape) #show the number of rows and columns)\n",
    "print(x2.shape)\n",
    "print(x3.shape)"
   ]
  },
  {
   "cell_type": "code",
   "execution_count": 75,
   "id": "56e73934-5ca4-4def-83e8-7850b02ed90f",
   "metadata": {},
   "outputs": [
    {
     "name": "stdout",
     "output_type": "stream",
     "text": [
      "(5, 2)\n"
     ]
    }
   ],
   "source": [
    "y = np.random.randint(0, 10, (5, 2))\n",
    "print(y.shape)"
   ]
  },
  {
   "cell_type": "code",
   "execution_count": 85,
   "id": "723bf035-06c8-466f-a122-b3f329c6afa9",
   "metadata": {},
   "outputs": [
    {
     "data": {
      "text/plain": [
       "dtype('int64')"
      ]
     },
     "execution_count": 85,
     "metadata": {},
     "output_type": "execute_result"
    }
   ],
   "source": [
    "y.dtype"
   ]
  },
  {
   "cell_type": "code",
   "execution_count": 89,
   "id": "d955cec6-debf-4311-b385-bb1aa823a799",
   "metadata": {},
   "outputs": [
    {
     "name": "stdout",
     "output_type": "stream",
     "text": [
      "y.itemsize = 8\n",
      "x3.itemsize = 8\n"
     ]
    }
   ],
   "source": [
    "print(\"y.itemsize =\", y.itemsize)\n",
    "print(\"x3.itemsize =\", x3.itemsize)\n"
   ]
  },
  {
   "cell_type": "code",
   "execution_count": 91,
   "id": "f7b53d01-7aa5-482c-8149-fb9a74cbfb6d",
   "metadata": {},
   "outputs": [
    {
     "data": {
      "text/plain": [
       "True"
      ]
     },
     "execution_count": 91,
     "metadata": {},
     "output_type": "execute_result"
    }
   ],
   "source": [
    "x1.nbytes == x1.itemsize * x1.size #This code is comparing two values related to the memory usage of a NumPy array (x1):"
   ]
  },
  {
   "cell_type": "code",
   "execution_count": 97,
   "id": "eadb3bce-fddd-42f1-9ac9-533a9c91dbad",
   "metadata": {},
   "outputs": [
    {
     "data": {
      "text/plain": [
       "array([[2, 6, 1, 3, 2],\n",
       "       [3, 8, 8, 1, 7],\n",
       "       [7, 5, 4, 0, 5],\n",
       "       [3, 4, 2, 8, 7],\n",
       "       [1, 7, 7, 2, 6]])"
      ]
     },
     "execution_count": 97,
     "metadata": {},
     "output_type": "execute_result"
    }
   ],
   "source": [
    "import numpy as np\n",
    "np.random.randint(0, 10, (5,5))"
   ]
  },
  {
   "cell_type": "code",
   "execution_count": 101,
   "id": "6cd7a971-9d26-4212-b1d0-a37c25cd20ab",
   "metadata": {},
   "outputs": [
    {
     "name": "stdout",
     "output_type": "stream",
     "text": [
      "[[8 6 3 1 5]\n",
      " [5 8 6 5 9]\n",
      " [8 9 4 7 0]\n",
      " [3 3 2 1 9]\n",
      " [7 0 3 0 9]]\n",
      "8\n",
      "0\n"
     ]
    }
   ],
   "source": [
    "import numpy as np\n",
    "arr = np.random.randint(0, 10, (5,5))\n",
    "print (arr)\n",
    "print (arr[0,0])\n",
    "print(arr[2, -1])"
   ]
  },
  {
   "cell_type": "code",
   "execution_count": 103,
   "id": "30746064-e6a1-491c-9321-e9521c3aeb55",
   "metadata": {},
   "outputs": [
    {
     "name": "stdout",
     "output_type": "stream",
     "text": [
      "3\n"
     ]
    }
   ],
   "source": [
    "print(arr[-1, 2])"
   ]
  },
  {
   "cell_type": "code",
   "execution_count": 113,
   "id": "a4649bca-0eef-4031-8509-44c8646168d9",
   "metadata": {},
   "outputs": [
    {
     "name": "stdout",
     "output_type": "stream",
     "text": [
      "[[8 6 3 1 5]\n",
      " [5 8 6 5 9]\n",
      " [8 9 4 7 3]\n",
      " [3 3 2 1 9]\n",
      " [7 0 3 0 9]]\n"
     ]
    }
   ],
   "source": [
    "arr[2, -1] = 3.14\n",
    "print (arr)"
   ]
  },
  {
   "cell_type": "code",
   "execution_count": 143,
   "id": "6538191b-0b4a-420e-9332-f200decbaa2b",
   "metadata": {},
   "outputs": [
    {
     "data": {
      "text/plain": [
       "array([[9.  , 4.  , 1.  , 1.  , 4.  ],\n",
       "       [4.  , 7.  , 7.  , 5.  , 6.  ],\n",
       "       [5.  , 2.  , 8.  , 8.  , 3.14],\n",
       "       [6.  , 2.  , 7.  , 9.  , 3.  ],\n",
       "       [3.  , 9.  , 7.  , 2.  , 5.  ]])"
      ]
     },
     "execution_count": 143,
     "metadata": {},
     "output_type": "execute_result"
    }
   ],
   "source": [
    "arr = np.random.randint(0, 10, (5, 5)).astype(float) # Create an array of integers, but explicitly cast it to float\n",
    "arr[2, -1] = 3.14\n",
    "arr"
   ]
  },
  {
   "cell_type": "code",
   "execution_count": 153,
   "id": "2ab5e45c-2260-4c5a-9eca-68717bdeb153",
   "metadata": {},
   "outputs": [
    {
     "data": {
      "text/plain": [
       "array([[3, 5, 2],\n",
       "       [2, 3, 6],\n",
       "       [5, 7, 1]])"
      ]
     },
     "execution_count": 153,
     "metadata": {},
     "output_type": "execute_result"
    }
   ],
   "source": [
    "new = np.array([\n",
    "    [3,5,2],\n",
    "    [2,3,6],\n",
    "    [5,7,1]\n",
    "])\n",
    "new"
   ]
  },
  {
   "cell_type": "code",
   "execution_count": 22,
   "id": "2954b30a-c208-4956-b87d-a3f69ba0464e",
   "metadata": {},
   "outputs": [
    {
     "data": {
      "text/plain": [
       "array([5, 7, 6])"
      ]
     },
     "execution_count": 22,
     "metadata": {},
     "output_type": "execute_result"
    }
   ],
   "source": [
    "import numpy as np\n",
    "new = np.array([\n",
    "    [3,5,2],\n",
    "    [2,3,6],\n",
    "    [5,7,1]\n",
    "])\n",
    "new\n",
    "new.max(axis=0)\n"
   ]
  },
  {
   "cell_type": "code",
   "execution_count": 26,
   "id": "e43c98f0-f864-4257-9e1c-4441c275ce9e",
   "metadata": {},
   "outputs": [
    {
     "name": "stdout",
     "output_type": "stream",
     "text": [
      "[1, 2, 3, 4]\n"
     ]
    }
   ],
   "source": [
    "#unique for not double value\n",
    "arr = [1, 2, 3, 4, 3, 2, 1]\n",
    "unique_arr = list(set(arr))\n",
    "print(unique_arr)"
   ]
  },
  {
   "cell_type": "code",
   "execution_count": null,
   "id": "95ee0f7d-6a32-46d8-9e8a-00972fcd78fc",
   "metadata": {},
   "outputs": [],
   "source": []
  }
 ],
 "metadata": {
  "kernelspec": {
   "display_name": "Python 3 (ipykernel)",
   "language": "python",
   "name": "python3"
  },
  "language_info": {
   "codemirror_mode": {
    "name": "ipython",
    "version": 3
   },
   "file_extension": ".py",
   "mimetype": "text/x-python",
   "name": "python",
   "nbconvert_exporter": "python",
   "pygments_lexer": "ipython3",
   "version": "3.12.4"
  }
 },
 "nbformat": 4,
 "nbformat_minor": 5
}
